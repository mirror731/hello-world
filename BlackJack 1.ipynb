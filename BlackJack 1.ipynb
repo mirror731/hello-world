{
 "cells": [
  {
   "cell_type": "markdown",
   "metadata": {},
   "source": [
    "# Black Jack"
   ]
  },
  {
   "cell_type": "code",
   "execution_count": 4,
   "metadata": {},
   "outputs": [
    {
     "name": "stdout",
     "output_type": "stream",
     "text": [
      "Welcom to Black Jack!\n",
      "You'll recieve a couple of cards one by one, but no more than 5 cards.\n",
      "Say 'yes' if you want to get one more card, otherwise say 'no'.\n",
      "You win the black jack if the sum of your cards equals to 21\n",
      "If the sume exceeds 21, it BUST!\n",
      "However, 11 can also be count as 1\n",
      "Get as more cards as possible. Let's start\n"
     ]
    }
   ],
   "source": [
    "print(\"Welcom to Black Jack!\")\n",
    "print(\"You'll recieve a couple of cards one by one, but no more than 5 cards.\")\n",
    "print(\"Say 'yes' if you want to get one more card, otherwise say 'no'.\")\n",
    "print(\"You win the black jack if the sum of your cards equals to 21\")\n",
    "print(\"If the sume exceeds 21, it BUST!\")\n",
    "print(\"However, 11 can also be count as 1\")\n",
    "print(\"Get as more cards as possible. Let's start\")"
   ]
  },
  {
   "cell_type": "code",
   "execution_count": 1,
   "metadata": {},
   "outputs": [],
   "source": [
    "from IPython.display import clear_output\n",
    "from random import randint"
   ]
  },
  {
   "cell_type": "code",
   "execution_count": 2,
   "metadata": {},
   "outputs": [],
   "source": [
    "def replay():\n",
    "    \n",
    "    return input(\"Do you want to play again? Enter Y or N: \").upper().startswith(\"Y\")"
   ]
  },
  {
   "cell_type": "code",
   "execution_count": 3,
   "metadata": {},
   "outputs": [],
   "source": [
    "def display_hand(hand):\n",
    "    clear_output()\n",
    "    print(hand)"
   ]
  },
  {
   "cell_type": "code",
   "execution_count": 4,
   "metadata": {},
   "outputs": [],
   "source": [
    "def one_more():\n",
    "    choice = \"wrong\"\n",
    "    while choice != \"Y\" or choice != \"N\":\n",
    "        choice = input(\"Hit? Enter Y or N: \").upper()\n",
    "                \n",
    "        if choice == \"Y\":\n",
    "            return True\n",
    "        if choice == \"N\":\n",
    "            return False\n",
    "        else:\n",
    "            clear_output()\n",
    "            print(\"Sorry invalid input\")"
   ]
  },
  {
   "cell_type": "code",
   "execution_count": 5,
   "metadata": {},
   "outputs": [],
   "source": [
    "def deal_one(hand):\n",
    "    return hand.append(randint(1,11))"
   ]
  },
  {
   "cell_type": "code",
   "execution_count": 6,
   "metadata": {},
   "outputs": [],
   "source": [
    "def count_point(hand):\n",
    "    points=[]\n",
    "    if 11 in hand:\n",
    "        if hand.count(11)==1:\n",
    "            points.append(sum(hand)-10)\n",
    "            points.append(sum(hand))\n",
    "        if hand.count(11)==2:\n",
    "            points.append(sum(hand)-20)\n",
    "            points.append(sum(hand)-10)\n",
    "        if hand.count(11)==3:\n",
    "            points.append(sum(hand)-30)\n",
    "            points.append(sum(hand)-20)\n",
    "        if hand.count(11)==4:\n",
    "            points.append(sum(hand)-40)\n",
    "            points.append(sum(hand)-30)\n",
    "        if hand.count(11)==5:\n",
    "            points.append(sum(hand)-40)\n",
    "    else:\n",
    "        points.append(sum(hand))\n",
    "    \n",
    "    if len(points)==2 and points[-1]<=21:\n",
    "        points.pop(0)\n",
    "    elif len(points)==2 and points[-1]>21:\n",
    "        points.pop()\n",
    "    \n",
    "    return points[0]"
   ]
  },
  {
   "cell_type": "code",
   "execution_count": 7,
   "metadata": {},
   "outputs": [
    {
     "name": "stdout",
     "output_type": "stream",
     "text": [
      "See you\n"
     ]
    }
   ],
   "source": [
    "print(\"Welcom to Black Jack!\")\n",
    "\n",
    "while True:\n",
    "    hand1=[]\n",
    "    clear_output()\n",
    "    play_game = input(\"Are you ready to play? Enter Y or N: \").upper()\n",
    "    \n",
    "    if play_game == \"Y\":\n",
    "        game_on = True\n",
    "    else:\n",
    "        game_on = False\n",
    "\n",
    "    while game_on:\n",
    "        if len(hand1) == 0:\n",
    "            deal_one(hand1)\n",
    "        if len(hand1) < 5:\n",
    "            display_hand(hand1)\n",
    "            if count_point(hand1) == 21:\n",
    "                print(\"Black Jack!\")\n",
    "                break\n",
    "            elif count_point(hand1) < 21:\n",
    "                if one_more():\n",
    "                    deal_one(hand1)\n",
    "                else:\n",
    "                    display_hand(hand1)\n",
    "                    print(f\"Stand\\nYour point is {count_point(hand1)}. You can't beat the host\")\n",
    "                    break\n",
    "            else:\n",
    "                print(\"BUST!\")\n",
    "                break\n",
    "                \n",
    "        if len(hand1) == 5:\n",
    "            display_hand(hand1)\n",
    "            if count_point(hand1) <= 21:\n",
    "                print(\"5-card Charlie! You win.\")\n",
    "                break\n",
    "            else:\n",
    "                print(\"BUST!\")\n",
    "                break\n",
    "                \n",
    "    if not replay():\n",
    "        clear_output()\n",
    "        print(\"See you\")\n",
    "        break"
   ]
  },
  {
   "cell_type": "code",
   "execution_count": null,
   "metadata": {},
   "outputs": [],
   "source": []
  }
 ],
 "metadata": {
  "kernelspec": {
   "display_name": "Python 3",
   "language": "python",
   "name": "python3"
  },
  "language_info": {
   "codemirror_mode": {
    "name": "ipython",
    "version": 3
   },
   "file_extension": ".py",
   "mimetype": "text/x-python",
   "name": "python",
   "nbconvert_exporter": "python",
   "pygments_lexer": "ipython3",
   "version": "3.8.5"
  }
 },
 "nbformat": 4,
 "nbformat_minor": 4
}

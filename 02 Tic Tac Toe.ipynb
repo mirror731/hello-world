{
 "cells": [
  {
   "cell_type": "code",
   "execution_count": 1,
   "metadata": {},
   "outputs": [],
   "source": [
    "from IPython.display import clear_output\n",
    "\n",
    "def display_board(board):\n",
    "    clear_output()\n",
    "    print(\"{0}|{1}|{2}\\n-----\".format(board[1],board[2],board[3]))\n",
    "    print(\"{0}|{1}|{2}\\n-----\".format(board[4],board[5],board[6]))\n",
    "    print(\"{0}|{1}|{2}\".format(board[7],board[8],board[9]))"
   ]
  },
  {
   "cell_type": "code",
   "execution_count": 2,
   "metadata": {},
   "outputs": [],
   "source": [
    "def player_input():\n",
    "    marker=\"\"\n",
    "    \n",
    "    while marker!=\"X\" and marker!=\"O\":\n",
    "        marker=input(\"Player 1 choose your marker 'X' or 'O': \").upper()\n",
    "        if marker!=\"X\" and marker!=\"O\":\n",
    "            clear_output()\n",
    "            print(\"Sorry invalid choice, choose again please\")\n",
    "    \n",
    "    if marker==\"X\":\n",
    "        return (\"X\",\"O\")\n",
    "    else:\n",
    "        return (\"O\",\"X\")"
   ]
  },
  {
   "cell_type": "code",
   "execution_count": 3,
   "metadata": {},
   "outputs": [],
   "source": [
    "def place_marker(board, marker, position):\n",
    "    \n",
    "    board[position]=marker\n"
   ]
  },
  {
   "cell_type": "code",
   "execution_count": 4,
   "metadata": {},
   "outputs": [],
   "source": [
    "def win_check(board,mark):\n",
    "    \n",
    "    return ((board[7] == mark and board[8] == mark and board[9] == mark) or # across the top\n",
    "    (board[4] == mark and board[5] == mark and board[6] == mark) or # across the middle\n",
    "    (board[1] == mark and board[2] == mark and board[3] == mark) or # across the bottom\n",
    "    (board[7] == mark and board[4] == mark and board[1] == mark) or # down the middle\n",
    "    (board[8] == mark and board[5] == mark and board[2] == mark) or # down the middle\n",
    "    (board[9] == mark and board[6] == mark and board[3] == mark) or # down the right side\n",
    "    (board[7] == mark and board[5] == mark and board[3] == mark) or # diagonal\n",
    "    (board[9] == mark and board[5] == mark and board[1] == mark)) # diagonal"
   ]
  },
  {
   "cell_type": "code",
   "execution_count": 5,
   "metadata": {},
   "outputs": [],
   "source": [
    "import random\n",
    "\n",
    "def choose_first():\n",
    "    gofirst=random.randint(0,1)\n",
    "    if gofirst==0:\n",
    "        return \"Player 1\"\n",
    "    else:\n",
    "        return \"Player 2\""
   ]
  },
  {
   "cell_type": "code",
   "execution_count": 6,
   "metadata": {},
   "outputs": [],
   "source": [
    "def space_check(board, position):\n",
    "    \n",
    "    return board[position]==\" \""
   ]
  },
  {
   "cell_type": "code",
   "execution_count": 7,
   "metadata": {},
   "outputs": [],
   "source": [
    "def full_board_check(board):\n",
    "    \n",
    "    for i in range(1,10):\n",
    "        if space_check(board,i):\n",
    "            return False\n",
    "        # if use else at here->only check index 1\n",
    "    return True"
   ]
  },
  {
   "cell_type": "code",
   "execution_count": 8,
   "metadata": {},
   "outputs": [],
   "source": [
    "def player_choice(board):\n",
    "    choice='wrong'\n",
    "    within_range=False\n",
    "    \n",
    "    while choice.isdigit()==False or within_range==False:\n",
    "        choice=input(\"Player, choose your next step (1-9): \")\n",
    "        if choice.isdigit()==False:\n",
    "            clear_output()\n",
    "            print(\"Sorry invalid input\")\n",
    "        if choice.isdigit()==True:\n",
    "            if int(choice) in range(1,10):\n",
    "                within_range=True\n",
    "                choice=int(choice)\n",
    "                if space_check(board,choice)==False:\n",
    "                    display_board(test_board)\n",
    "                    print(f\"Sorry position {choice} has been filled.\")\n",
    "                    choice='wrong'\n",
    "                else:\n",
    "                    break\n",
    "            else:\n",
    "                clear_output()\n",
    "                print(\"Sorry invalid input\")\n",
    "                within_range=False\n",
    "        \n",
    "    return choice"
   ]
  },
  {
   "cell_type": "code",
   "execution_count": 9,
   "metadata": {},
   "outputs": [],
   "source": [
    "def replay():\n",
    "    choice=False\n",
    "    while not choice:\n",
    "        again=input(\"Do you want to start a new game? Y or N \").upper()\n",
    "        if again!=\"Y\" and again!=\"N\":\n",
    "            clear_output()\n",
    "            print(\"Sorry invalid input\")\n",
    "        else:\n",
    "            choice=True\n",
    "    return again==\"Y\""
   ]
  },
  {
   "cell_type": "code",
   "execution_count": 10,
   "metadata": {},
   "outputs": [
    {
     "name": "stdout",
     "output_type": "stream",
     "text": [
      "See you next time.\n"
     ]
    }
   ],
   "source": [
    "print('Welcome to Tic Tac Toe!')\n",
    "\n",
    "while True:\n",
    "    \n",
    "    clear_output()\n",
    "    board1=['x',' ',' ',' ',' ',' ',' ',' ',' ',' ']\n",
    "    player1_marker, player2_marker=player_input()\n",
    "    \n",
    "    turn=choose_first()\n",
    "    print(turn+\" will go first\")\n",
    "    \n",
    "    play_game=input(\"Ready to play? Y or N \").upper()\n",
    "    \n",
    "    if play_game==\"Y\":\n",
    "        game_on=True\n",
    "    else:\n",
    "        game_on=False\n",
    "    \n",
    "    while game_on:\n",
    "        if turn==\"Player 1\":\n",
    "            clear_output()\n",
    "            display_board(board1)\n",
    "            position=player_choice(board1)\n",
    "            place_marker(board1,player1_marker,position)\n",
    "            \n",
    "            if win_check(board1,player1_marker):\n",
    "                display_board(board1)\n",
    "                print(\"Player 1 won the game\")\n",
    "                game_on=False\n",
    "            else:\n",
    "                if full_board_check(board1):\n",
    "                    display_board(board1)\n",
    "                    print(\"It's a tie game\")\n",
    "                    game_on=False\n",
    "                else:\n",
    "                    turn=\"Player 2\"\n",
    "        \n",
    "        else:\n",
    "            clear_output()\n",
    "            display_board(board1)\n",
    "            position=player_choice(board1)\n",
    "            place_marker(board1,player2_marker,position)\n",
    "            \n",
    "            if win_check(board1,player2_marker):\n",
    "                display_board(board1)\n",
    "                print(\"Player 2 won the game\")\n",
    "                game_on=False\n",
    "            else:\n",
    "                if full_board_check(board1):\n",
    "                    display_board(board1)\n",
    "                    print(\"It's a tie game\")\n",
    "                    game_on=False\n",
    "                else:\n",
    "                    turn=\"Player 1\" \n",
    "        \n",
    "    if not replay():\n",
    "        clear_output()\n",
    "        print(\"See you next time.\")\n",
    "        break"
   ]
  },
  {
   "cell_type": "code",
   "execution_count": null,
   "metadata": {},
   "outputs": [],
   "source": []
  }
 ],
 "metadata": {
  "kernelspec": {
   "display_name": "Python 3",
   "language": "python",
   "name": "python3"
  },
  "language_info": {
   "codemirror_mode": {
    "name": "ipython",
    "version": 3
   },
   "file_extension": ".py",
   "mimetype": "text/x-python",
   "name": "python",
   "nbconvert_exporter": "python",
   "pygments_lexer": "ipython3",
   "version": "3.8.5"
  }
 },
 "nbformat": 4,
 "nbformat_minor": 1
}

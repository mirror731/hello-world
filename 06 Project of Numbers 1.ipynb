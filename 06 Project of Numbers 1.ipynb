{
 "cells": [
  {
   "cell_type": "code",
   "execution_count": 7,
   "metadata": {},
   "outputs": [],
   "source": [
    "from math import pi\n",
    "from math import e"
   ]
  },
  {
   "cell_type": "code",
   "execution_count": 1,
   "metadata": {},
   "outputs": [],
   "source": [
    "import math"
   ]
  },
  {
   "cell_type": "code",
   "execution_count": 2,
   "metadata": {},
   "outputs": [
    {
     "data": {
      "text/plain": [
       "3.141592653589793"
      ]
     },
     "execution_count": 2,
     "metadata": {},
     "output_type": "execute_result"
    }
   ],
   "source": [
    "pi"
   ]
  },
  {
   "cell_type": "code",
   "execution_count": null,
   "metadata": {},
   "outputs": [],
   "source": [
    "# Find e to the Nth Digit"
   ]
  },
  {
   "cell_type": "code",
   "execution_count": 8,
   "metadata": {},
   "outputs": [],
   "source": [
    "def e_with_precision(n):\n",
    "    \"\"\"Return euler's number to the n-th decimal place\n",
    "    :param n: number of decimal places to return\n",
    "    :type n: int\n",
    "    :return: euler's number with n decimal places\n",
    "    :rtype: str\n",
    "    \"\"\"\n",
    "    return '%.*f' % (n, e)\n",
    "\n",
    "def main():\n",
    "    \n",
    "    correct_input = False\n",
    "    while not correct_input:\n",
    "        # ask until you get correct input\n",
    "        print('Precision must be between 1 and 51')\n",
    "        precision = int(input('Number of decimal places: '))\n",
    "        if 51 >= precision > 0:\n",
    "            correct_input = True\n",
    "    print(e_with_precision(precision))"
   ]
  },
  {
   "cell_type": "code",
   "execution_count": 10,
   "metadata": {},
   "outputs": [
    {
     "name": "stdout",
     "output_type": "stream",
     "text": [
      "Precision must be between 1 and 51\n",
      "Number of decimal places: 30\n",
      "2.718281828459045090795598298428\n"
     ]
    }
   ],
   "source": [
    "main()"
   ]
  },
  {
   "cell_type": "code",
   "execution_count": null,
   "metadata": {},
   "outputs": [],
   "source": [
    "# Find PI to the Nth Digit"
   ]
  },
  {
   "cell_type": "code",
   "execution_count": 16,
   "metadata": {},
   "outputs": [],
   "source": [
    "def pi_with_precision(n):\n",
    "    \"\"\"Return pi's number to the n-th decimal place\n",
    "    :param n: number of decimal places to return\n",
    "    :type n: int\n",
    "    :return: pi's number with n decimal places\n",
    "    :rtype: str\n",
    "    \"\"\"\n",
    "    return '{:.{prec}f}'.format(pi,prec=n)\n",
    "\n",
    "def main2():\n",
    "    \n",
    "    correct_input = False\n",
    "    while not correct_input:\n",
    "        # ask until you get correct input\n",
    "        print('Precision must be between 1 and 51')\n",
    "        precision = int(input('Number of decimal places: '))\n",
    "        if 51 >= precision > 0:\n",
    "            correct_input = True\n",
    "    print(pi_with_precision(precision))"
   ]
  },
  {
   "cell_type": "code",
   "execution_count": 17,
   "metadata": {},
   "outputs": [
    {
     "name": "stdout",
     "output_type": "stream",
     "text": [
      "Precision must be between 1 and 51\n",
      "Number of decimal places: 10\n",
      "3.1415926536\n"
     ]
    }
   ],
   "source": [
    "main2()"
   ]
  },
  {
   "cell_type": "code",
   "execution_count": null,
   "metadata": {},
   "outputs": [],
   "source": []
  },
  {
   "cell_type": "code",
   "execution_count": null,
   "metadata": {},
   "outputs": [],
   "source": [
    "# Fibonacci Sequence"
   ]
  },
  {
   "cell_type": "code",
   "execution_count": 1,
   "metadata": {},
   "outputs": [],
   "source": [
    "def genfibon(n):\n",
    "    \"\"\"\n",
    "    Generate a fibonnaci sequence up to n\n",
    "    \"\"\"\n",
    "    a = 1\n",
    "    b = 1\n",
    "    for i in range(n):\n",
    "        yield a\n",
    "        a,b = b,a+b\n",
    "\n",
    "def main4():\n",
    "    correct_input = False\n",
    "    while not correct_input:\n",
    "        try:\n",
    "            num = int(input('Generate a fibonnaci sequence up to: '))\n",
    "        except ValueError:\n",
    "            print(\"It's not a number\")\n",
    "        else:\n",
    "            correct_input = True\n",
    "    \n",
    "    for x in genfibon(num):\n",
    "        print(x)"
   ]
  },
  {
   "cell_type": "code",
   "execution_count": 2,
   "metadata": {},
   "outputs": [
    {
     "data": {
      "text/plain": [
       "<generator object genfibon at 0x00000230101467B0>"
      ]
     },
     "execution_count": 2,
     "metadata": {},
     "output_type": "execute_result"
    }
   ],
   "source": [
    "genfibon(10)"
   ]
  },
  {
   "cell_type": "code",
   "execution_count": 19,
   "metadata": {},
   "outputs": [
    {
     "name": "stdout",
     "output_type": "stream",
     "text": [
      "1\n",
      "1\n",
      "2\n",
      "3\n",
      "5\n",
      "8\n",
      "13\n",
      "21\n",
      "34\n",
      "55\n"
     ]
    }
   ],
   "source": [
    "for num in genfibon(10):\n",
    "    print(num)"
   ]
  },
  {
   "cell_type": "code",
   "execution_count": 97,
   "metadata": {},
   "outputs": [
    {
     "name": "stdout",
     "output_type": "stream",
     "text": [
      "Generate a fibonnaci sequence up to: a\n",
      "It's not a number\n",
      "Generate a fibonnaci sequence up to: 20\n",
      "1\n",
      "1\n",
      "2\n",
      "3\n",
      "5\n",
      "8\n",
      "13\n",
      "21\n",
      "34\n",
      "55\n",
      "89\n",
      "144\n",
      "233\n",
      "377\n",
      "610\n",
      "987\n",
      "1597\n",
      "2584\n",
      "4181\n",
      "6765\n"
     ]
    }
   ],
   "source": [
    "main4()"
   ]
  },
  {
   "cell_type": "code",
   "execution_count": null,
   "metadata": {},
   "outputs": [],
   "source": []
  },
  {
   "cell_type": "code",
   "execution_count": null,
   "metadata": {},
   "outputs": [],
   "source": [
    "# Prime Factorization"
   ]
  },
  {
   "cell_type": "code",
   "execution_count": 3,
   "metadata": {},
   "outputs": [],
   "source": [
    "def prime_factors(n):\n",
    "    '''\n",
    "    find all Prime Factors of a number and display them\n",
    "    '''\n",
    "    i = 2\n",
    "    factors = []\n",
    "    while i * i <= n: # largest prime factor will never be larger than the square root of n\n",
    "        if n%i: # true means having remainder\n",
    "            i += 1\n",
    "        else:\n",
    "            n //= i\n",
    "            factors.append(i)\n",
    "    if n > 1:\n",
    "        factors.append(n)\n",
    "    \n",
    "    return factors\n",
    "\n",
    "def main3():\n",
    "    correct_input = False\n",
    "    while not correct_input:\n",
    "        try:\n",
    "            num = int(input('You want to know the prime factors of: '))\n",
    "        except ValueError:\n",
    "            print(\"It's not a number\")\n",
    "        else:\n",
    "            correct_input = True\n",
    "    \n",
    "    print(f'The prime factors of {num} are {prime_factors(num)}')"
   ]
  },
  {
   "cell_type": "code",
   "execution_count": 4,
   "metadata": {},
   "outputs": [
    {
     "data": {
      "text/plain": [
       "[3, 3, 5, 7]"
      ]
     },
     "execution_count": 4,
     "metadata": {},
     "output_type": "execute_result"
    }
   ],
   "source": [
    "prime_factors(315)"
   ]
  },
  {
   "cell_type": "code",
   "execution_count": 7,
   "metadata": {},
   "outputs": [
    {
     "name": "stdout",
     "output_type": "stream",
     "text": [
      "You want to know the prime factors of: 100\n",
      "The prime factors of 100 are [2, 2, 5, 5]\n"
     ]
    }
   ],
   "source": [
    "main3()"
   ]
  },
  {
   "cell_type": "code",
   "execution_count": null,
   "metadata": {},
   "outputs": [],
   "source": []
  },
  {
   "cell_type": "code",
   "execution_count": null,
   "metadata": {},
   "outputs": [],
   "source": [
    "# Next Prime Number"
   ]
  },
  {
   "cell_type": "code",
   "execution_count": 8,
   "metadata": {},
   "outputs": [],
   "source": [
    "'''\n",
    "find prime numbers until the user chooses to stop asking for the next one\n",
    "'''\n",
    "\n",
    "def gen_prime():\n",
    "    '''\n",
    "    generate prime number\n",
    "    '''\n",
    "    yield 2\n",
    "    x = 3\n",
    "    while True:\n",
    "        for y in range(3,x,2):  # range(3,3,2) return null, range(3,5,2) return 3\n",
    "            if x%y == 0:\n",
    "                x +=2\n",
    "                break\n",
    "        else:    # if same indentation as if clause, only divied by 3, 25 wiil be prime\n",
    "            yield x\n",
    "            x +=2\n",
    "            \n",
    "def main5():\n",
    "    g = gen_prime()\n",
    "    \n",
    "    while True:\n",
    "        ans = input(\"Press Enter to generate next prime number, type 's' to stop.\")\n",
    "        if ans == 's':\n",
    "            break\n",
    "        else:\n",
    "            print(next(g))"
   ]
  },
  {
   "cell_type": "code",
   "execution_count": 119,
   "metadata": {},
   "outputs": [
    {
     "name": "stdout",
     "output_type": "stream",
     "text": [
      "Press Enter to generate next prime number, type 's' to stop.\n",
      "2\n",
      "Press Enter to generate next prime number, type 's' to stop.\n",
      "3\n",
      "Press Enter to generate next prime number, type 's' to stop.\n",
      "5\n",
      "Press Enter to generate next prime number, type 's' to stop.\n",
      "7\n",
      "Press Enter to generate next prime number, type 's' to stop.\n",
      "11\n",
      "Press Enter to generate next prime number, type 's' to stop.\n",
      "13\n",
      "Press Enter to generate next prime number, type 's' to stop.\n",
      "17\n",
      "Press Enter to generate next prime number, type 's' to stop.\n",
      "19\n",
      "Press Enter to generate next prime number, type 's' to stop.\n",
      "23\n",
      "Press Enter to generate next prime number, type 's' to stop.\n",
      "29\n",
      "Press Enter to generate next prime number, type 's' to stop.\n",
      "31\n",
      "Press Enter to generate next prime number, type 's' to stop.\n",
      "37\n",
      "Press Enter to generate next prime number, type 's' to stop.s\n"
     ]
    }
   ],
   "source": [
    "main5()"
   ]
  },
  {
   "cell_type": "code",
   "execution_count": null,
   "metadata": {},
   "outputs": [],
   "source": []
  },
  {
   "cell_type": "code",
   "execution_count": null,
   "metadata": {},
   "outputs": [],
   "source": [
    "# Find Cost of Tile to Cover W x H Floor"
   ]
  },
  {
   "cell_type": "code",
   "execution_count": 143,
   "metadata": {},
   "outputs": [],
   "source": [
    "def cost():\n",
    "    '''\n",
    "    ask for cost of a tile\n",
    "    '''\n",
    "    correct_input = False\n",
    "    while not correct_input:\n",
    "        try:\n",
    "            cost = int(input('Cost per one meter square: '))\n",
    "        except ValueError:\n",
    "            print(\"It's not a price\")\n",
    "        else:\n",
    "            correct_input = True\n",
    "    return cost\n",
    "    \n",
    "    \n",
    "def width():\n",
    "    '''\n",
    "    ask for width of the floor\n",
    "    '''\n",
    "    correct_input = False\n",
    "    while not correct_input:\n",
    "        try:\n",
    "            width = int(input('Width(m) of the floor: '))\n",
    "        except ValueError:\n",
    "            print(\"It's not a number\")\n",
    "        else:\n",
    "            correct_input = True\n",
    "    return width\n",
    "    \n",
    "def height():  \n",
    "    '''\n",
    "    ask for height of the floor\n",
    "    '''\n",
    "    correct_input = False\n",
    "    while not correct_input:\n",
    "        try:\n",
    "            width = int(input('Height(m) of the floor: '))\n",
    "        except ValueError:\n",
    "            print(\"It's not a number\")\n",
    "        else:\n",
    "            correct_input = True\n",
    "    return height\n",
    "\n",
    "def main6():\n",
    "    c,w,h = cost(), width(), height()\n",
    "    total = c*w*h\n",
    "    print(f'Total cost are ${total}')"
   ]
  },
  {
   "cell_type": "code",
   "execution_count": 149,
   "metadata": {},
   "outputs": [
    {
     "name": "stdout",
     "output_type": "stream",
     "text": [
      "Cost per one meter square: 2\n",
      "Width(m) of the floor: 10\n",
      "Height(m) of the floor: 20\n"
     ]
    },
    {
     "ename": "TypeError",
     "evalue": "unsupported operand type(s) for *: 'int' and 'function'",
     "output_type": "error",
     "traceback": [
      "\u001b[1;31m---------------------------------------------------------------------------\u001b[0m",
      "\u001b[1;31mTypeError\u001b[0m                                 Traceback (most recent call last)",
      "\u001b[1;32m<ipython-input-149-c7ca8e6cf91a>\u001b[0m in \u001b[0;36m<module>\u001b[1;34m\u001b[0m\n\u001b[1;32m----> 1\u001b[1;33m \u001b[0mmain6\u001b[0m\u001b[1;33m(\u001b[0m\u001b[1;33m)\u001b[0m\u001b[1;33m\u001b[0m\u001b[1;33m\u001b[0m\u001b[0m\n\u001b[0m",
      "\u001b[1;32m<ipython-input-143-380842d3e44d>\u001b[0m in \u001b[0;36mmain6\u001b[1;34m()\u001b[0m\n\u001b[0;32m     48\u001b[0m     \u001b[0mw\u001b[0m\u001b[1;33m=\u001b[0m\u001b[0mwidth\u001b[0m\u001b[1;33m(\u001b[0m\u001b[1;33m)\u001b[0m\u001b[1;33m\u001b[0m\u001b[1;33m\u001b[0m\u001b[0m\n\u001b[0;32m     49\u001b[0m     \u001b[0mh\u001b[0m\u001b[1;33m=\u001b[0m\u001b[0mheight\u001b[0m\u001b[1;33m(\u001b[0m\u001b[1;33m)\u001b[0m\u001b[1;33m\u001b[0m\u001b[1;33m\u001b[0m\u001b[0m\n\u001b[1;32m---> 50\u001b[1;33m     \u001b[0mtotal\u001b[0m \u001b[1;33m=\u001b[0m \u001b[0mc\u001b[0m\u001b[1;33m*\u001b[0m\u001b[0mw\u001b[0m\u001b[1;33m*\u001b[0m\u001b[0mh\u001b[0m\u001b[1;33m\u001b[0m\u001b[1;33m\u001b[0m\u001b[0m\n\u001b[0m\u001b[0;32m     51\u001b[0m     \u001b[0mprint\u001b[0m\u001b[1;33m(\u001b[0m\u001b[1;34mf'Total cost are ${total}'\u001b[0m\u001b[1;33m)\u001b[0m\u001b[1;33m\u001b[0m\u001b[1;33m\u001b[0m\u001b[0m\n",
      "\u001b[1;31mTypeError\u001b[0m: unsupported operand type(s) for *: 'int' and 'function'"
     ]
    }
   ],
   "source": [
    "main6()"
   ]
  },
  {
   "cell_type": "code",
   "execution_count": 12,
   "metadata": {},
   "outputs": [],
   "source": [
    "def ask():\n",
    "    cost = float(input(\"Cost por m^2: \"))\n",
    "    width = float(input(\"meters of the width: \"))\n",
    "    height = float(input(\"meters of the height: \"))\n",
    "    return cost, width, height\n",
    "\n",
    "\n",
    "def main61():\n",
    "    a,b,c = ask()\n",
    "    print (f\"The cost is: ${float(a * b * c)}\")"
   ]
  },
  {
   "cell_type": "code",
   "execution_count": 13,
   "metadata": {},
   "outputs": [
    {
     "name": "stdout",
     "output_type": "stream",
     "text": [
      "Cost por m^2: 2\n",
      "meters of the width: 10\n",
      "meters of the height: 20\n",
      "The cost is: $400.0\n"
     ]
    }
   ],
   "source": [
    "main61()"
   ]
  },
  {
   "cell_type": "code",
   "execution_count": null,
   "metadata": {},
   "outputs": [],
   "source": []
  },
  {
   "cell_type": "code",
   "execution_count": null,
   "metadata": {},
   "outputs": [],
   "source": [
    "# Mortgage Calculator"
   ]
  },
  {
   "cell_type": "code",
   "execution_count": 27,
   "metadata": {},
   "outputs": [],
   "source": [
    "def main7():\n",
    "    '''\n",
    "    Calculate the monthly payments of a fixed term mortgage over given Nth terms \n",
    "    at a given interest rate.\n",
    "    '''\n",
    "    tenor = int(input(\"Enter mortage term: \"))\n",
    "    a_rate = float(input(\"Annual interest rate: \"))\n",
    "    loan = float(input(\"Total loan: \"))\n",
    "    interval = input(\"Choose your compound interval 'H'(half-year), 'M'(monthly), 'W'(weekly): \")\n",
    "    \n",
    "    if interval == \"H\":\n",
    "        adjust_rate = a_rate / 100 / 2\n",
    "        term = tenor * 2\n",
    "        t = \"half-year\"\n",
    "    elif interval == \"M\":\n",
    "        adjust_rate = a_rate / 100 / 12\n",
    "        term = tenor * 12\n",
    "        t = \"monthly\"\n",
    "    elif interval == \"W\":\n",
    "        adjust_rate = a_rate / 100 / 57\n",
    "        term = tenor * 57\n",
    "        t = \"weekly\"\n",
    "    \n",
    "    payment = loan * (adjust_rate * (1 + adjust_rate)**term / ((1 + adjust_rate)**term - 1))\n",
    "    print (f\"The {t} payment of a {tenor}-year fixed mortgage in {a_rate}% p.a. is ${payment}\")\n",
    "    print(f\"Your mortgage total repayment is ${payment*term}\")"
   ]
  },
  {
   "cell_type": "code",
   "execution_count": 28,
   "metadata": {},
   "outputs": [
    {
     "name": "stdout",
     "output_type": "stream",
     "text": [
      "Enter mortage term: 30\n",
      "Annual interest rate: 2.5\n",
      "Total loan: 6300000\n",
      "Choose your compound interval 'H'(half-year), 'M'(monthly), 'W'(weekly): M\n",
      "The monthly payment of a 30-year fixed mortgage in 2.5% p.a. is $24892.61662551629\n",
      "Your mortgage total repayment is $8961341.985185863\n"
     ]
    }
   ],
   "source": [
    "main7()"
   ]
  },
  {
   "cell_type": "code",
   "execution_count": null,
   "metadata": {},
   "outputs": [],
   "source": []
  },
  {
   "cell_type": "code",
   "execution_count": null,
   "metadata": {},
   "outputs": [],
   "source": [
    "# Change Return Program"
   ]
  },
  {
   "cell_type": "code",
   "execution_count": null,
   "metadata": {},
   "outputs": [],
   "source": [
    "def exchange(x): # dumpy ver\n",
    "    '''\n",
    "    calculate how many coins needed for exchange\n",
    "    '''\n",
    "    ex  = []\n",
    "    while x >= 100:\n",
    "        x -= 100\n",
    "        ex.append(100)\n",
    "    while 10 <= x < 100:\n",
    "        if x >= 50:\n",
    "            x -= 50\n",
    "            ex.append(50)\n",
    "        elif x >= 20:\n",
    "            x -= 20\n",
    "            ex.append(20)\n",
    "        else:\n",
    "            x -= 10\n",
    "            ex.append(10)\n",
    "    while 1 <= x < 10:\n",
    "        if x >= 5:\n",
    "            x -= 5\n",
    "            ex.append(5)\n",
    "        elif x >= 2:\n",
    "            x -= 2\n",
    "            ex.append(2)\n",
    "        else:\n",
    "            x -= 1\n",
    "            ex.append(1)\n",
    "    while 0.2 <= x < 1:\n",
    "        if x >= 0.5:\n",
    "            x -= 0.5\n",
    "            ex.append(0.5)\n",
    "        elif x >= 0.2:\n",
    "            x -= 0.2\n",
    "            ex.append(0.2)\n",
    "            \n",
    "    if x >= 0.1:\n",
    "        ex.append(0.1)\n",
    "        \n",
    "    return ex"
   ]
  },
  {
   "cell_type": "code",
   "execution_count": 8,
   "metadata": {},
   "outputs": [],
   "source": [
    "def exchange2(change): # sometimes went wrong for the cents due to floating math\n",
    "    '''\n",
    "    calculate how many coins needed for exchange\n",
    "    '''\n",
    "    changeTypes = {500:0, 100:0, 50:0, 20:0, 10:0, 5:0, 2:0, 1:0, 0.5:0, 0.2:0, 0.1:0}\n",
    "    \n",
    "    for denomination in changeTypes:\n",
    "        numAmount = max(0,change//denomination)\n",
    "        changeTypes[denomination] = int(numAmount)\n",
    "        change -= numAmount*denomination\n",
    "        \n",
    "    print(changeTypes)\n",
    "\n",
    "def main8():\n",
    "    cost = float(input(\"Cost of the bill: \"))\n",
    "    amount = float(input(\"Money paid: \"))\n",
    "    change = amount - cost\n",
    "    \n",
    "    print(f\"You paid ${amount} and got exchange ${change}\")\n",
    "    exchange2(change)"
   ]
  },
  {
   "cell_type": "code",
   "execution_count": 11,
   "metadata": {},
   "outputs": [
    {
     "name": "stdout",
     "output_type": "stream",
     "text": [
      "Cost of the bill: 135.9\n",
      "Money paid: 500\n",
      "You paid $500.0 and got exchange $364.1\n",
      "{500: 0, 100: 3, 50: 1, 20: 0, 10: 1, 5: 0, 2: 2, 1: 0, 0.5: 0, 0.2: 0, 0.1: 1}\n"
     ]
    }
   ],
   "source": [
    "main8()"
   ]
  },
  {
   "cell_type": "code",
   "execution_count": 10,
   "metadata": {},
   "outputs": [
    {
     "name": "stdout",
     "output_type": "stream",
     "text": [
      "Cost of the bill: 500\n",
      "Money paid: 895.8\n",
      "You paid $895.8 and got exchange $395.79999999999995\n",
      "{500: 0, 100: 3, 50: 1, 20: 2, 10: 0, 5: 1, 2: 0, 1: 0, 0.5: 1, 0.2: 1, 0.1: 0}\n"
     ]
    }
   ],
   "source": [
    "main8()"
   ]
  },
  {
   "cell_type": "code",
   "execution_count": null,
   "metadata": {},
   "outputs": [],
   "source": []
  },
  {
   "cell_type": "code",
   "execution_count": null,
   "metadata": {},
   "outputs": [],
   "source": [
    "# Binary-Decimal Converter\n",
    "'''\n",
    "convert a decimal number to binary or a binary number to its decimal equivalent\n",
    "'''"
   ]
  },
  {
   "cell_type": "code",
   "execution_count": 36,
   "metadata": {},
   "outputs": [],
   "source": [
    "def decimalToBinary(n):\n",
    "    print(bin(n).replace(\"0b\",\"\"))\n",
    "\n",
    "def binaryToDecimal(n):\n",
    "    decimal, i = 0, 0\n",
    "    while n != 0:\n",
    "        dec = n % 10\n",
    "        decimal = decimal + dec*pow(2,i)\n",
    "        n = n//10\n",
    "        i += 1\n",
    "    print(decimal)\n",
    "\n",
    "def main9():\n",
    "    correct_input = False\n",
    "    while not correct_input:\n",
    "        convert = input(\"Enter 'B' to convert binary to decimal or 'D' for vice-versa: \").upper()\n",
    "        if convert == \"B\" or convert == \"D\":\n",
    "            correct_input = True\n",
    "    n = int(input(\"Input value: \"))\n",
    "    if convert == \"B\":\n",
    "        binaryToDecimal(n)\n",
    "    elif convert == \"D\":\n",
    "        decimalToBinary(n)"
   ]
  },
  {
   "cell_type": "code",
   "execution_count": 37,
   "metadata": {},
   "outputs": [
    {
     "name": "stdout",
     "output_type": "stream",
     "text": [
      "Enter 'B' to convert binary to decimal or 'D' for vice-versa: b\n",
      "Input value: 110\n",
      "6\n"
     ]
    }
   ],
   "source": [
    "main9()"
   ]
  },
  {
   "cell_type": "code",
   "execution_count": null,
   "metadata": {},
   "outputs": [],
   "source": []
  },
  {
   "cell_type": "code",
   "execution_count": null,
   "metadata": {},
   "outputs": [],
   "source": [
    "# Simple Calculator"
   ]
  },
  {
   "cell_type": "code",
   "execution_count": 44,
   "metadata": {},
   "outputs": [],
   "source": [
    "def cal(a,b,op):\n",
    "    '''\n",
    "    a and b are the numbers, op is the operator \"+-*/\"\n",
    "    '''\n",
    "    if op not in \"+-*/\":\n",
    "        return 'Please choose one from these characters: \"+, -, *, /\"!'\n",
    "    elif op == \"+\":\n",
    "        return (str(a) + \" \" + op + \" \" + str(b) + \" = \" + str(a+b))\n",
    "    elif op == \"-\":\n",
    "        return (str(a) + \" \" + op + \" \" + str(b) + \" = \" + str(a-b))\n",
    "    elif op == \"*\":\n",
    "        return (str(a) + \" \" + op + \" \" + str(b) + \" = \" + str(a*b))\n",
    "    elif op == \"/\":\n",
    "        return (str(a) + \" \" + op + \" \" + str(b) + \" = \" + str(a/b))\n",
    "\n",
    "def main10():\n",
    "    a = int(input(\"Enter the first number: \"))\n",
    "    b = int(input(\"Enter the second number: \"))\n",
    "    op = input(\"Enter the operation chose from '+,-,*,/': \")\n",
    "    print(cal(a,b,op))"
   ]
  },
  {
   "cell_type": "code",
   "execution_count": 46,
   "metadata": {},
   "outputs": [
    {
     "name": "stdout",
     "output_type": "stream",
     "text": [
      "Enter the first number: 5\n",
      "Enter the second number: 15\n",
      "Enter the operation chose from '+,-,*,/': -\n",
      "5 - 15 = -10\n"
     ]
    }
   ],
   "source": [
    "main10()"
   ]
  },
  {
   "cell_type": "code",
   "execution_count": null,
   "metadata": {},
   "outputs": [],
   "source": []
  }
 ],
 "metadata": {
  "kernelspec": {
   "display_name": "Python 3",
   "language": "python",
   "name": "python3"
  },
  "language_info": {
   "codemirror_mode": {
    "name": "ipython",
    "version": 3
   },
   "file_extension": ".py",
   "mimetype": "text/x-python",
   "name": "python",
   "nbconvert_exporter": "python",
   "pygments_lexer": "ipython3",
   "version": "3.8.5"
  }
 },
 "nbformat": 4,
 "nbformat_minor": 4
}

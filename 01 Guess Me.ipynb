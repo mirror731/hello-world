{
 "cells": [
  {
   "cell_type": "markdown",
   "metadata": {},
   "source": [
    "# Guess Me"
   ]
  },
  {
   "cell_type": "code",
   "execution_count": 5,
   "metadata": {},
   "outputs": [],
   "source": [
    "def replay():\n",
    "    again=False\n",
    "    while not again:\n",
    "        choice=input(\"Do you want restart? Y or N: \").upper()\n",
    "        if choice!=\"Y\" and choice!=\"N\":\n",
    "            clear_output()\n",
    "            print(\"Sorry invalid input\")\n",
    "        else:\n",
    "            again=True\n",
    "    return choice==\"Y\""
   ]
  },
  {
   "cell_type": "code",
   "execution_count": 6,
   "metadata": {},
   "outputs": [],
   "source": [
    "from IPython.display import clear_output\n",
    "from random import randint"
   ]
  },
  {
   "cell_type": "code",
   "execution_count": 7,
   "metadata": {},
   "outputs": [
    {
     "name": "stdout",
     "output_type": "stream",
     "text": [
      "WELCOME TO GUESS ME!\n",
      "I'm thinking of a number between 1 and 100\n",
      "If your guess is more than 10 away from my number, I'll tell you you're COLD\n",
      "If your guess is within 10 of my number, I'll tell you you're WARM\n",
      "If your guess is farther than your most recent guess, I'll say you're getting COLDER\n",
      "If your guess is closer than your most recent guess, I'll say you're getting WARMER\n",
      "LET'S PLAY!\n"
     ]
    }
   ],
   "source": [
    "print(\"WELCOME TO GUESS ME!\")\n",
    "print(\"I'm thinking of a number between 1 and 100\")\n",
    "print(\"If your guess is more than 10 away from my number, I'll tell you you're COLD\")\n",
    "print(\"If your guess is within 10 of my number, I'll tell you you're WARM\")\n",
    "print(\"If your guess is farther than your most recent guess, I'll say you're getting COLDER\")\n",
    "print(\"If your guess is closer than your most recent guess, I'll say you're getting WARMER\")\n",
    "print(\"LET'S PLAY!\")"
   ]
  },
  {
   "cell_type": "code",
   "execution_count": 10,
   "metadata": {},
   "outputs": [
    {
     "name": "stdout",
     "output_type": "stream",
     "text": [
      "See you next time\n"
     ]
    }
   ],
   "source": [
    "while True:\n",
    "    ans=randint(1,100)\n",
    "    guesses=[0]\n",
    "    start=input(\"Let's start Y or N: \").upper()\n",
    "    if start==\"Y\":\n",
    "        game_on=True\n",
    "    else:\n",
    "        game_on=False\n",
    "    clear_output()    \n",
    "    while game_on:        \n",
    "        guess=int(input(\"Guess a number from 1 to 100.\\nWhat's your guess? \"))\n",
    "        if guess<1 or guess>100:\n",
    "            print(\"Out of bonds! Please try again!\")\n",
    "            continue\n",
    "        if guess==ans:\n",
    "            print(f\"Congratulation, you guessed it in {len(guesses)} guesses!\")\n",
    "            break\n",
    "        guesses.append(guess)\n",
    "        if guesses[-2]:\n",
    "            if abs(guesses[-2]-ans)>abs(guesses[-1]-ans):\n",
    "                print(\"Warmer!\")\n",
    "            else:\n",
    "                print(\"Colder!\")\n",
    "        else:\n",
    "            if abs(guess-ans)<=10:\n",
    "                print(\"Warm!\")\n",
    "            else:\n",
    "                print(\"Cold!\")\n",
    "    if not replay():\n",
    "        clear_output()\n",
    "        print(\"See you next time\")\n",
    "        break"
   ]
  },
  {
   "cell_type": "code",
   "execution_count": null,
   "metadata": {},
   "outputs": [],
   "source": []
  }
 ],
 "metadata": {
  "kernelspec": {
   "display_name": "Python 3",
   "language": "python",
   "name": "python3"
  },
  "language_info": {
   "codemirror_mode": {
    "name": "ipython",
    "version": 3
   },
   "file_extension": ".py",
   "mimetype": "text/x-python",
   "name": "python",
   "nbconvert_exporter": "python",
   "pygments_lexer": "ipython3",
   "version": "3.8.5"
  }
 },
 "nbformat": 4,
 "nbformat_minor": 4
}
